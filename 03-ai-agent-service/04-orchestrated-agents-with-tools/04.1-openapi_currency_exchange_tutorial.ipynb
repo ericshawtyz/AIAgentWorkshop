{
 "cells": [
  {
   "cell_type": "markdown",
   "id": "722786d7",
   "metadata": {},
   "source": [
    "# OpenAPI Currency Exchange Tutorial\n",
    "\n",
    "💱 **Learn how to use OpenAPI tools with Azure AI Agents for currency exchange!**\n",
    "\n",
    "This tutorial demonstrates:\n",
    "1. **Part 1: Azure AI Foundry SDK** - Using OpenAPI tools for currency exchange\n",
    "2. **Part 2: Semantic Kernel SDK** - Azure AI Agents with OpenAPI tools\n",
    "\n",
    "**OpenAPI tools** allow agents to call external APIs defined by OpenAPI specifications.\n",
    "\n",
    "---"
   ]
  },
  {
   "cell_type": "markdown",
   "id": "3462f435",
   "metadata": {},
   "source": [
    "## 🔧 Setup and Prerequisites\n",
    "\n",
    "**Environment Variables Required:**\n",
    "- `PROJECT_ENDPOINT`: Your Azure AI Project endpoint\n",
    "- `MODEL_DEPLOYMENT_NAME`: Your deployed AI model name\n",
    "\n",
    "**For Semantic Kernel:**\n",
    "- `AZURE_OPENAI_ENDPOINT`: Your Azure OpenAI endpoint\n",
    "- `AZURE_OPENAI_API_KEY`: Your Azure OpenAI API key\n",
    "- `AZURE_OPENAI_CHAT_DEPLOYMENT_NAME`: Your chat model deployment"
   ]
  },
  {
   "cell_type": "markdown",
   "id": "aa9c44d5",
   "metadata": {},
   "source": [
    "![Azure Tools](images/azure_tools.gif)"
   ]
  },
  {
   "cell_type": "code",
   "execution_count": 1,
   "id": "b537879e",
   "metadata": {},
   "outputs": [
    {
     "name": "stdout",
     "output_type": "stream",
     "text": [
      "✅ Packages imported successfully!\n"
     ]
    }
   ],
   "source": [
    "# Install required packages\n",
    "# !pip install azure-ai-agents azure-identity semantic-kernel\n",
    "\n",
    "import os\n",
    "import json\n",
    "import json\n",
    "from azure.ai.agents import AgentsClient\n",
    "from azure.ai.agents.models import OpenApiTool, OpenApiAnonymousAuthDetails, MessageRole\n",
    "from azure.identity import DefaultAzureCredential\n",
    "\n",
    "print(\"✅ Packages imported successfully!\")"
   ]
  },
  {
   "cell_type": "markdown",
   "id": "dc9b86d2",
   "metadata": {},
   "source": [
    "---\n",
    "\n",
    "# Part 1: Azure AI Foundry SDK - OpenAPI Currency Exchange\n",
    "\n",
    "The Foundry SDK provides **OpenApiTool** to call external APIs from agent responses.\n",
    "\n",
    "**Architecture:**\n",
    "```\n",
    "Agent → OpenAPI Tool → Frankfurter API (currency exchange)\n",
    "```"
   ]
  },
  {
   "cell_type": "code",
   "execution_count": 2,
   "id": "7c2c2b11",
   "metadata": {},
   "outputs": [
    {
     "name": "stdout",
     "output_type": "stream",
     "text": [
      "📊 Currency exchange OpenAPI spec loaded\n",
      "API Title: Frankfurter Exchange Rates API\n",
      "API Version: 1.0\n"
     ]
    }
   ],
   "source": [
    "# Load the currency exchange OpenAPI specification\n",
    "currency_spec_path = os.path.join(\"openapi_files\", \"currency_exchange.json\")\n",
    "\n",
    "with open(currency_spec_path, \"r\") as f:\n",
    "    currency_openapi_spec = json.loads(f.read())\n",
    "\n",
    "print(\"📊 Currency exchange OpenAPI spec loaded\")\n",
    "print(f\"API Title: {currency_openapi_spec['info']['title']}\")\n",
    "print(f\"API Version: {currency_openapi_spec['info']['version']}\")"
   ]
  },
  {
   "cell_type": "code",
   "execution_count": 3,
   "id": "fc7d01a1",
   "metadata": {},
   "outputs": [
    {
     "name": "stdout",
     "output_type": "stream",
     "text": [
      "🔗 Connected to Azure AI Agents service\n"
     ]
    }
   ],
   "source": [
    "# Create Azure AI Agents client\n",
    "agents_client = AgentsClient(\n",
    "    endpoint=os.environ[\"PROJECT_ENDPOINT\"],\n",
    "    credential=DefaultAzureCredential()\n",
    ")\n",
    "\n",
    "print(\"🔗 Connected to Azure AI Agents service\")"
   ]
  },
  {
   "cell_type": "code",
   "execution_count": 4,
   "id": "4765128f",
   "metadata": {},
   "outputs": [
    {
     "name": "stdout",
     "output_type": "stream",
     "text": [
      "💱 Currency exchange OpenAPI tool created\n",
      "Available operations: 1\n"
     ]
    }
   ],
   "source": [
    "# Create OpenAPI tool for currency exchange\n",
    "auth = OpenApiAnonymousAuthDetails()\n",
    "\n",
    "currency_tool = OpenApiTool(\n",
    "    name=\"currency_exchange\",\n",
    "    spec=currency_openapi_spec,\n",
    "    description=\"Get the latest foreign exchange rates from Frankfurter API\",\n",
    "    auth=auth\n",
    ")\n",
    "\n",
    "print(\"💱 Currency exchange OpenAPI tool created\")\n",
    "print(f\"Available operations: {len(currency_tool.definitions)}\")"
   ]
  },
  {
   "cell_type": "code",
   "execution_count": 5,
   "id": "311f8471",
   "metadata": {},
   "outputs": [
    {
     "name": "stdout",
     "output_type": "stream",
     "text": [
      "💰 Currency exchange agent created: asst_Pvq8NHv81JzZ7NH8DuTZw41m\n"
     ]
    }
   ],
   "source": [
    "# Create agent with OpenAPI tool\n",
    "currency_agent = agents_client.create_agent(\n",
    "    model=os.environ[\"MODEL_DEPLOYMENT_NAME\"],\n",
    "    name=\"currency_exchange_agent\",\n",
    "    instructions=\"You are a helpful currency exchange agent. Use the currency exchange API to get latest exchange rates. Always provide clear explanations of the rates.\",\n",
    "    tools=currency_tool.definitions\n",
    ")\n",
    "\n",
    "print(f\"💰 Currency exchange agent created: {currency_agent.id}\")"
   ]
  },
  {
   "cell_type": "code",
   "execution_count": 6,
   "id": "60be3a08",
   "metadata": {},
   "outputs": [
    {
     "name": "stdout",
     "output_type": "stream",
     "text": [
      "💬 Thread created: thread_G5uTmu0vwRkzfOIR72snM2RW\n",
      "✅ Run status: RunStatus.COMPLETED\n",
      "\n",
      "💱 Currency Agent Response:\n",
      "Here are the latest exchange rates with USD as the base currency:\n",
      "\n",
      "- 1 USD = 0.85507 EUR (Euro)\n",
      "- 1 USD = 0.7298 GBP (British Pound)\n",
      "- 1 USD = 144.44 JPY (Japanese Yen)\n",
      "\n",
      "This means for every 1 US Dollar, you get approximately 0.855 Euros, 0.73 British Pounds, or 144.44 Japanese Yen. Let me know if you need rates for other currencies!\n"
     ]
    }
   ],
   "source": [
    "# Test the currency exchange agent\n",
    "# Create conversation thread\n",
    "thread = agents_client.threads.create()\n",
    "print(f\"💬 Thread created: {thread.id}\")\n",
    "\n",
    "# Ask about exchange rates\n",
    "message = agents_client.messages.create(\n",
    "    thread_id=thread.id,\n",
    "    role=MessageRole.USER,\n",
    "    content=\"What is the current USD to EUR exchange rate? Also show me USD to GBP and USD to JPY.\"\n",
    ")\n",
    "\n",
    "# Process the request\n",
    "run = agents_client.runs.create_and_process(\n",
    "    thread_id=thread.id,\n",
    "    agent_id=currency_agent.id\n",
    ")\n",
    "\n",
    "print(f\"✅ Run status: {run.status}\")\n",
    "\n",
    "if run.status == \"failed\":\n",
    "    print(f\"❌ Run failed: {run.last_error}\")\n",
    "\n",
    "# Display the response\n",
    "messages = agents_client.messages.list(thread_id=thread.id)\n",
    "for msg in messages:\n",
    "    if msg.role == \"assistant\" and msg.text_messages:\n",
    "        print(f\"\\n💱 Currency Agent Response:\")\n",
    "        print(msg.text_messages[-1].text.value)\n",
    "        break"
   ]
  },
  {
   "cell_type": "code",
   "execution_count": 7,
   "id": "58aae8b0",
   "metadata": {},
   "outputs": [
    {
     "name": "stdout",
     "output_type": "stream",
     "text": [
      "✅ Second run status: RunStatus.COMPLETED\n",
      "\n",
      "💱 Currency Agent Response (EUR base):\n",
      "Here are the latest exchange rates with EUR (Euro) as the base currency:\n",
      "\n",
      "- 1 EUR = 1.1695 USD (US Dollar)\n",
      "- 1 EUR = 0.8535 GBP (British Pound)\n",
      "- 1 EUR = 0.9379 CHF (Swiss Franc)\n",
      "\n",
      "This means for every 1 Euro, you get about 1.17 US Dollars, 0.85 British Pounds, or 0.94 Swiss Francs. If you need rates for other currencies, feel free to ask!\n"
     ]
    }
   ],
   "source": [
    "# Test with different base currency\n",
    "# Create new message in same thread\n",
    "message2 = agents_client.messages.create(\n",
    "    thread_id=thread.id,\n",
    "    role=MessageRole.USER,\n",
    "    content=\"Now show me EUR to USD, EUR to GBP, and EUR to CHF exchange rates.\"\n",
    ")\n",
    "\n",
    "# Process the request\n",
    "run2 = agents_client.runs.create_and_process(\n",
    "    thread_id=thread.id,\n",
    "    agent_id=currency_agent.id\n",
    ")\n",
    "\n",
    "print(f\"✅ Second run status: {run2.status}\")\n",
    "\n",
    "# Display the latest response\n",
    "messages = agents_client.messages.list(thread_id=thread.id)\n",
    "print(f\"\\n💱 Currency Agent Response (EUR base):\")\n",
    "for msg in messages:\n",
    "    if msg.role == \"assistant\" and msg.text_messages:\n",
    "        print(msg.text_messages[-1].text.value)\n",
    "        break"
   ]
  },
  {
   "cell_type": "markdown",
   "id": "1c273d01",
   "metadata": {},
   "source": [
    "---\n",
    "\n",
    "# Part 2: Semantic Kernel SDK - Azure AI Agent with OpenAPI Tools\n",
    "\n",
    "Semantic Kernel provides **AzureAIAgent** to wrap Azure AI agents with OpenAPI tools.\n",
    "\n",
    "**Architecture:**\n",
    "```\n",
    "Semantic Kernel\n",
    "    ↓\n",
    "AzureAIAgent (wraps Azure AI agent with OpenAPI tools)\n",
    "    ↓\n",
    "Frankfurter API (currency exchange)\n",
    "```"
   ]
  },
  {
   "cell_type": "code",
   "execution_count": 9,
   "id": "037b5599",
   "metadata": {},
   "outputs": [
    {
     "name": "stdout",
     "output_type": "stream",
     "text": [
      "📚 Semantic Kernel imports loaded\n"
     ]
    }
   ],
   "source": [
    "# Semantic Kernel imports\n",
    "import asyncio\n",
    "from azure.identity.aio import DefaultAzureCredential as AsyncDefaultAzureCredential\n",
    "from semantic_kernel.agents import AzureAIAgent, AzureAIAgentSettings\n",
    "from semantic_kernel.contents import AuthorRole\n",
    "\n",
    "print(\"📚 Semantic Kernel imports loaded\")"
   ]
  },
  {
   "cell_type": "code",
   "execution_count": 10,
   "id": "7a3d1814",
   "metadata": {},
   "outputs": [
    {
     "name": "stdout",
     "output_type": "stream",
     "text": [
      "🔗 Creating SK Azure AI Agent with OpenAPI tools...\n",
      "💰 SK Currency agent created: asst_4eipQqUlbJErAcErI1ZDrDgX\n",
      "\n",
      "🧪 Test Query 1:\n",
      "👤 User: What's the current exchange rate from USD to THB (Thai Baht)? I'm planning a trip to Thailand.\n",
      "💱 SK Currency Agent: The current exchange rate from USD to THB (Thai Baht) is approximately 1 USD = 32.51 THB as of today.\n",
      "\n",
      "This means that for every US dollar you exchange, you will receive about 32.51 Thai Baht. It's a good idea to check if your bank or currency exchange service charges any fees or offers slightly different rates, as the market rate can differ from what you receive.\n",
      "\n",
      "If you need a calculation for a specific amount or more travel tips, let me know! Safe travels to Thailand!\n",
      "\n",
      "🧪 Test Query 2:\n",
      "👤 User: Show me how much 1000 USD would be worth in EUR, GBP, and CAD today.\n",
      "💱 SK Currency Agent: Based on the latest exchange rates, here’s how much 1,000 USD would be worth in each currency:\n",
      "\n",
      "- EUR (Euro): 1 USD = 0.85507 EUR\n",
      "  - 1,000 USD × 0.85507 = 855.07 EUR\n",
      "\n",
      "- GBP (British Pound): 1 USD = 0.7298 GBP\n",
      "  - 1,000 USD × 0.7298 = 729.80 GBP\n",
      "\n",
      "- CAD (Canadian Dollar): 1 USD = 1.3688 CAD\n",
      "  - 1,000 USD × 1.3688 = 1,368.80 CAD\n",
      "\n",
      "So today, 1,000 USD is worth:\n",
      "\n",
      "- 855.07 EUR\n",
      "- 729.80 GBP\n",
      "- 1,368.80 CAD\n",
      "\n",
      "Remember, these values use the current market rates and do not include any potential fees or different rates from banks or exchange services. Let me know if you need calculations for other currencies or different amounts!\n",
      "\n",
      "🧹 SK agent cleaned up\n",
      "\n",
      "✅ Semantic Kernel Azure AI Agent with OpenAPI complete!\n"
     ]
    }
   ],
   "source": [
    "# Create Azure AI Agent with OpenAPI tools using Semantic Kernel\n",
    "async def create_sk_currency_agent():\n",
    "    endpoint = os.environ[\"PROJECT_ENDPOINT\"]\n",
    "    model_deployment = os.environ[\"MODEL_DEPLOYMENT_NAME\"]\n",
    "\n",
    "    async with (\n",
    "        AsyncDefaultAzureCredential() as creds,\n",
    "        AzureAIAgent.create_client(credential=creds, endpoint=endpoint) as sk_client,\n",
    "    ):\n",
    "        print(\"🔗 Creating SK Azure AI Agent with OpenAPI tools...\")\n",
    "        \n",
    "        # Create Azure AI agent with OpenAPI tool using SK\n",
    "        agent_definition = await sk_client.agents.create_agent(\n",
    "            model=model_deployment,\n",
    "            name=\"sk_currency_agent\",\n",
    "            instructions=\"You are an expert currency exchange assistant. Use the currency exchange API to provide accurate, up-to-date exchange rates. Always explain the rates clearly and provide context.\",\n",
    "            tools=currency_tool.definitions\n",
    "        )\n",
    "        \n",
    "        # Wrap as AzureAIAgent\n",
    "        sk_currency_agent = AzureAIAgent(\n",
    "            client=sk_client,\n",
    "            definition=agent_definition\n",
    "        )\n",
    "        \n",
    "        print(f\"💰 SK Currency agent created: {agent_definition.id}\")\n",
    "        \n",
    "        # Test queries\n",
    "        test_queries = [\n",
    "            \"What's the current exchange rate from USD to THB (Thai Baht)? I'm planning a trip to Thailand.\",\n",
    "            \"Show me how much 1000 USD would be worth in EUR, GBP, and CAD today.\"\n",
    "        ]\n",
    "        \n",
    "        thread = None\n",
    "        \n",
    "        try:\n",
    "            for i, query in enumerate(test_queries, 1):\n",
    "                print(f\"\\n🧪 Test Query {i}:\")\n",
    "                print(f\"👤 User: {query}\")\n",
    "                \n",
    "                # Invoke the agent\n",
    "                async for response in sk_currency_agent.invoke(messages=query, thread=thread):\n",
    "                    if response.role != AuthorRole.TOOL:\n",
    "                        print(f\"💱 SK Currency Agent: {response.content}\")\n",
    "                    thread = response.thread\n",
    "        \n",
    "        finally:\n",
    "            # Cleanup\n",
    "            if thread:\n",
    "                await sk_client.agents.threads.delete(thread.id)\n",
    "            await sk_client.agents.delete_agent(agent_definition.id)\n",
    "            print(\"\\n🧹 SK agent cleaned up\")\n",
    "\n",
    "# Run the SK currency agent\n",
    "await create_sk_currency_agent()\n",
    "print(\"\\n✅ Semantic Kernel Azure AI Agent with OpenAPI complete!\")"
   ]
  },
  {
   "cell_type": "code",
   "execution_count": null,
   "id": "c7d04488",
   "metadata": {},
   "outputs": [],
   "source": [
    "# Final cleanup - delete the Foundry SDK agent\n",
    "agents_client.delete_agent(currency_agent.id)\n",
    "print(\"🧹 All agents cleaned up\")"
   ]
  },
  {
   "cell_type": "markdown",
   "id": "3016a212",
   "metadata": {},
   "source": [
    "---\n",
    "\n",
    "## 🔄 Comparison: Foundry SDK vs Semantic Kernel OpenAPI\n",
    "\n",
    "| Aspect | Foundry SDK | Semantic Kernel (AzureAI) |\n",
    "|--------|-------------|---------------------------|\n",
    "| **Setup** | Direct OpenApiTool creation | Azure AI agent with OpenAPI tools |\n",
    "| **Agent Type** | Native Azure AI agent | AzureAIAgent wrapper |\n",
    "| **API Calls** | Built-in tool execution | SK orchestration + Azure AI power |\n",
    "| **Response** | Direct agent response | SK streaming with tool filtering |\n",
    "| **Context** | Thread-based conversation | SK thread management |\n",
    "\n",
    "### When to Use Each:\n",
    "\n",
    "**⚙️ Foundry SDK:**\n",
    "- Direct Azure AI agent usage\n",
    "- Simple OpenAPI tool integration\n",
    "- Native Azure AI features\n",
    "\n",
    "**🔌 Semantic Kernel:**\n",
    "- Rich SK orchestration features\n",
    "- Complex agent workflows\n",
    "- Leverage existing Azure AI agents in SK pipelines"
   ]
  },
  {
   "cell_type": "markdown",
   "id": "76709d9f",
   "metadata": {},
   "source": [
    "---\n",
    "\n",
    "## 💱 OpenAPI Currency Exchange Features\n",
    "\n",
    "### 🌍 Frankfurter API Capabilities:\n",
    "- **Real-time rates**: Latest foreign exchange rates\n",
    "- **Multiple currencies**: 30+ supported currencies\n",
    "- **Base currency**: Configure any currency as base\n",
    "- **Free access**: No API key required\n",
    "\n",
    "### 🔧 OpenAPI Tool Benefits:\n",
    "- **Auto-discovery**: Agents understand API capabilities\n",
    "- **Type safety**: OpenAPI schema validation\n",
    "- **Documentation**: Built-in API documentation\n",
    "- **Flexibility**: Easy to add new APIs\n",
    "\n",
    "### 💡 Best Practices:\n",
    "✅ **Always validate** OpenAPI specifications  \n",
    "✅ **Handle errors** gracefully in agent instructions  \n",
    "✅ **Use descriptive** tool names and descriptions  \n",
    "✅ **Test thoroughly** with different currencies  \n",
    "✅ **Consider rate limits** for production usage  "
   ]
  },
  {
   "cell_type": "markdown",
   "id": "50cabc97",
   "metadata": {},
   "source": [
    "---\n",
    "\n",
    "## 🎯 Key Takeaways\n",
    "\n",
    "✅ **OpenAPI Tools (Both SDKs):**\n",
    "- Enable agents to call external APIs\n",
    "- Use OpenAPI specifications for auto-discovery\n",
    "- Support various authentication methods\n",
    "\n",
    "✅ **Foundry SDK:**\n",
    "- Use `OpenApiTool` for direct API integration\n",
    "- Perfect for straightforward API calls\n",
    "- Built-in Azure AI agent capabilities\n",
    "\n",
    "✅ **Semantic Kernel:**\n",
    "- Use `AzureAIAgent` for enhanced orchestration\n",
    "- Leverage SK's streaming and filtering\n",
    "- Combine with other SK features\n",
    "\n",
    "**🚀 Next Steps:**\n",
    "- Try with your own OpenAPI specifications\n",
    "- Experiment with authenticated APIs\n",
    "- Combine multiple OpenAPI tools in one agent\n",
    "- Explore rate limiting and error handling\n",
    "\n",
    "**Happy API integrating!** 🎉"
   ]
  }
 ],
 "metadata": {
  "kernelspec": {
   "display_name": "az-ai-agents-playbook",
   "language": "python",
   "name": "python3"
  },
  "language_info": {
   "codemirror_mode": {
    "name": "ipython",
    "version": 3
   },
   "file_extension": ".py",
   "mimetype": "text/x-python",
   "name": "python",
   "nbconvert_exporter": "python",
   "pygments_lexer": "ipython3",
   "version": "3.12.11"
  }
 },
 "nbformat": 4,
 "nbformat_minor": 5
}

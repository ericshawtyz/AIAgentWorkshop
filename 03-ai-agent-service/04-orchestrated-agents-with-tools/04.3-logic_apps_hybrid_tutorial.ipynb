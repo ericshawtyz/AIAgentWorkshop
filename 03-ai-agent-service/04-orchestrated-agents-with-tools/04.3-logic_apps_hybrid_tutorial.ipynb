{
 "cells": [
  {
   "cell_type": "markdown",
   "id": "d516bc86",
   "metadata": {},
   "source": [
    "# 🔄⚡ Logic Apps + Semantic Kernel Hybrid Tutorial\n",
    "\n",
    "**🚀 Learn how to combine Azure Logic Apps with Semantic Kernel plugins for powerful workflow automation!**\n",
    "\n",
    "This tutorial demonstrates:\n",
    "1. **Logic Apps Integration** - Automated workflow triggers using AzureLogicAppTool\n",
    "2. **Semantic Kernel Plugins** - Local data processing capabilities\n",
    "3. **Hybrid Agent** - Combining workflows with AI intelligence\n",
    "\n",
    "**Scenario:** An intelligent business assistant that can:\n",
    "- 📧 Trigger email workflows via Logic Apps\n",
    "- 📊 Process business data locally with SK plugins\n",
    "- 🔗 Coordinate between cloud automation and AI analysis\n",
    "\n",
    "---"
   ]
  },
  {
   "cell_type": "markdown",
   "id": "86dbd5c6",
   "metadata": {},
   "source": [
    "## 🔧 Setup and Prerequisites\n",
    "\n",
    "**Environment Variables Required:**\n",
    "- `PROJECT_ENDPOINT`: Your Azure AI Project endpoint\n",
    "- `MODEL_DEPLOYMENT_NAME`: Your deployed AI model name\n",
    "- `AZURE_SUBSCRIPTION_ID`: Your Azure subscription ID\n",
    "- `AZURE_RESOURCE_GROUP_NAME`: Resource group containing your Logic App\n",
    "\n",
    "**Architecture Overview:**\n",
    "```\n",
    "Azure AI Agent\n",
    "    ├── AzureLogicAppTool → Email/Notification Workflows\n",
    "    └── SK Plugins\n",
    "            ├── DataPlugin → process_sales_data()\n",
    "            └── ReportPlugin → generate_summary()\n",
    "```"
   ]
  },
  {
   "cell_type": "markdown",
   "id": "ec9d5531",
   "metadata": {},
   "source": [
    "![Azure Tools](images/azure_tools.gif)"
   ]
  },
  {
   "cell_type": "markdown",
   "id": "0b1e7fb6",
   "metadata": {},
   "source": [
    "## 📦 Installing Dependencies and Imports\n",
    "\n",
    "First, we'll install the necessary packages and import the required modules for our hybrid solution. This includes:\n",
    "\n",
    "- **Azure AI Agents SDK** - For creating intelligent agents\n",
    "- **Azure Logic Apps Management** - For managing and triggering Logic Apps\n",
    "- **Semantic Kernel** - For local AI processing and plugins\n",
    "- **Azure Identity** - For authentication with Azure services\n",
    "\n",
    "The following cell sets up all the dependencies we need for this tutorial."
   ]
  },
  {
   "cell_type": "code",
   "execution_count": 1,
   "id": "7bcb74c8",
   "metadata": {},
   "outputs": [
    {
     "name": "stdout",
     "output_type": "stream",
     "text": [
      "✅ Required packages imported successfully!\n"
     ]
    }
   ],
   "source": [
    "# Install required packages\n",
    "# !pip install azure-ai-agents azure-identity azure-mgmt-logic requests\n",
    "\n",
    "import os\n",
    "import json\n",
    "import requests\n",
    "from typing import Annotated, Dict, Any, Callable, Set\n",
    "from datetime import datetime, timedelta\n",
    "\n",
    "# Azure AI Agents imports\n",
    "from azure.ai.agents import AgentsClient\n",
    "from azure.ai.agents.models import ToolSet, FunctionTool\n",
    "from azure.identity import DefaultAzureCredential\n",
    "\n",
    "# Azure Logic Apps Management\n",
    "from azure.mgmt.logic import LogicManagementClient\n",
    "\n",
    "# Semantic Kernel imports\n",
    "import semantic_kernel as sk\n",
    "from semantic_kernel.functions import kernel_function\n",
    "\n",
    "print(\"✅ Required packages imported successfully!\")"
   ]
  },
  {
   "cell_type": "markdown",
   "id": "11c8cb4b",
   "metadata": {},
   "source": [
    "## 🔧 Building the Azure Logic Apps Tool\n",
    "\n",
    "Now we'll implement the core `AzureLogicAppTool` class that serves as our bridge between the AI agent and Azure Logic Apps. This tool:\n",
    "\n",
    "1. **Registers Logic Apps** - Retrieves callback URLs for Logic App triggers\n",
    "2. **Manages Multiple Workflows** - Stores and organizes multiple Logic App endpoints\n",
    "3. **Handles Invocation** - Sends HTTP requests to trigger Logic App workflows\n",
    "4. **Provides Fallback** - Simulates actions when Logic Apps aren't available\n",
    "\n",
    "This implementation allows our AI agent to seamlessly trigger cloud-based automation workflows."
   ]
  },
  {
   "cell_type": "code",
   "execution_count": 12,
   "id": "94819a0c",
   "metadata": {},
   "outputs": [
    {
     "name": "stdout",
     "output_type": "stream",
     "text": [
      "🔧 AzureLogicAppTool class defined!\n"
     ]
    }
   ],
   "source": [
    "# Azure Logic Apps Tool Implementation\n",
    "class AzureLogicAppTool:\n",
    "    \"\"\"\n",
    "    A service that manages multiple Logic Apps by retrieving and storing their callback URLs,\n",
    "    and then invoking them with an appropriate payload.\n",
    "    \"\"\"\n",
    "\n",
    "    def __init__(self, subscription_id: str, resource_group: str, credential=None):\n",
    "        if credential is None:\n",
    "            credential = DefaultAzureCredential()\n",
    "        self.subscription_id = subscription_id\n",
    "        self.resource_group = resource_group\n",
    "        self.logic_client = LogicManagementClient(credential, subscription_id)\n",
    "        self.callback_urls: Dict[str, str] = {}\n",
    "\n",
    "    def register_logic_app(self, logic_app_name: str, trigger_name: str) -> None:\n",
    "        \"\"\"\n",
    "        Retrieves and stores a callback URL for a specific Logic App + trigger.\n",
    "        Raises a ValueError if the callback URL is missing.\n",
    "        \"\"\"\n",
    "        try:\n",
    "            callback = self.logic_client.workflow_triggers.list_callback_url(\n",
    "                resource_group_name=self.resource_group,\n",
    "                workflow_name=logic_app_name,\n",
    "                trigger_name=trigger_name,\n",
    "            )\n",
    "\n",
    "            if callback.value is None:\n",
    "                raise ValueError(f\"No callback URL returned for Logic App '{logic_app_name}'.\")\n",
    "\n",
    "            self.callback_urls[logic_app_name] = callback.value\n",
    "            print(f\"✅ Registered Logic App: {logic_app_name}\")\n",
    "        except Exception as e:\n",
    "            print(f\"⚠️ Warning: Could not register Logic App '{logic_app_name}': {e}\")\n",
    "            print(\"💡 This is expected if the Logic App doesn't exist - emails will be simulated\")\n",
    "\n",
    "    def invoke_logic_app(self, logic_app_name: str, payload: Dict[str, Any]) -> Dict[str, Any]:\n",
    "        \"\"\"\n",
    "        Invokes the registered Logic App (by name) with the given JSON payload.\n",
    "        Returns a dictionary summarizing success/failure.\n",
    "        \"\"\"\n",
    "        if logic_app_name not in self.callback_urls:\n",
    "            # Simulate email sending if Logic App not registered\n",
    "            print(f\"📧 SIMULATED EMAIL:\")\n",
    "            print(f\"   To: {payload.get('to', 'unknown')}\")\n",
    "            print(f\"   Subject: {payload.get('subject', 'unknown')}\")\n",
    "            print(f\"   Body: {payload.get('body', 'unknown')}\")\n",
    "            return {\"result\": f\"Successfully simulated email via {logic_app_name}.\"}\n",
    "\n",
    "        url = self.callback_urls[logic_app_name]\n",
    "        try:\n",
    "            response = requests.post(url=url, json=payload, timeout=30)\n",
    "            if response.ok:\n",
    "                print(f\"✅ Successfully invoked Logic App: {logic_app_name}\")\n",
    "                return {\"result\": f\"Successfully invoked {logic_app_name}.\"}\n",
    "            else:\n",
    "                print(f\"⚠️ Error invoking Logic App: {logic_app_name} ({response.status_code})\")\n",
    "                return {\"error\": f\"Error invoking {logic_app_name} ({response.status_code}): {response.text}\"}\n",
    "        except Exception as e:\n",
    "            print(f\"⚠️ Exception invoking Logic App: {logic_app_name} - {str(e)}\")\n",
    "            return {\"error\": f\"Error invoking {logic_app_name}: {str(e)}\"}\n",
    "\n",
    "def create_send_email_function(service: AzureLogicAppTool, logic_app_name: str) -> Callable[[str, str, str], str]:\n",
    "    \"\"\"\n",
    "    Returns a function that sends an email by invoking the specified Logic App.\n",
    "    \"\"\"\n",
    "    def send_email_via_logic_app(to: str, subject: str, body: str) -> str:\n",
    "        \"\"\"\n",
    "        Sends an email by invoking the specified Logic App with the given recipient, subject, and body.\n",
    "        \"\"\"\n",
    "        payload = {\n",
    "            \"to\": to,\n",
    "            \"subject\": subject,\n",
    "            \"body\": body,\n",
    "        }\n",
    "        result = service.invoke_logic_app(logic_app_name, payload)\n",
    "        print(\"📧 Email sent via Logic App:\")\n",
    "        return json.dumps(result)\n",
    "\n",
    "    return send_email_via_logic_app\n",
    "\n",
    "print(\"🔧 AzureLogicAppTool class defined!\")"
   ]
  },
  {
   "cell_type": "markdown",
   "id": "c63ce7a7",
   "metadata": {},
   "source": [
    "## 📧 Creating Agent with Azure Logic Apps Integration\n",
    "\n",
    "We'll create an AI agent that can trigger Logic Apps workflows for automated business processes."
   ]
  },
  {
   "cell_type": "markdown",
   "id": "cabf8644",
   "metadata": {},
   "source": [
    "## 🎯 Initializing Azure AI Agents Client\n",
    "\n",
    "Before we can create our hybrid agent, we need to establish a connection to Azure AI services. This step:\n",
    "\n",
    "- **Connects to Azure AI Project** - Uses your project endpoint for agent creation\n",
    "- **Sets Up Authentication** - Uses DefaultAzureCredential for secure access\n",
    "- **Configures Model Deployment** - Specifies which AI model to use for the agent\n",
    "\n",
    "Make sure you have set the required environment variables in your development environment."
   ]
  },
  {
   "cell_type": "code",
   "execution_count": 3,
   "id": "0a616180",
   "metadata": {},
   "outputs": [
    {
     "name": "stdout",
     "output_type": "stream",
     "text": [
      "✅ Connected to Azure AI Project\n",
      "📊 Using model: gpt-4.1\n"
     ]
    }
   ],
   "source": [
    "# Initialize Azure AI Agents client\n",
    "project_endpoint = os.getenv(\"PROJECT_ENDPOINT\")\n",
    "model_deployment = os.getenv(\"MODEL_DEPLOYMENT_NAME\")\n",
    "subscription_id = os.getenv(\"AZURE_SUBSCRIPTION_ID\")\n",
    "resource_group = os.getenv(\"AZURE_RESOURCE_GROUP_NAME\")\n",
    "\n",
    "if not all([project_endpoint, model_deployment, subscription_id, resource_group]):\n",
    "    raise ValueError(\"Missing required environment variables. Please set PROJECT_ENDPOINT, MODEL_DEPLOYMENT_NAME, AZURE_SUBSCRIPTION_ID, and AZURE_RESOURCE_GROUP_NAME\")\n",
    "\n",
    "credential = DefaultAzureCredential()\n",
    "agents_client = AgentsClient(endpoint=project_endpoint, credential=credential)\n",
    "\n",
    "print(f\"✅ Connected to Azure AI Project\")\n",
    "print(f\"📊 Using model: {model_deployment}\")"
   ]
  },
  {
   "cell_type": "markdown",
   "id": "de73e7e2",
   "metadata": {},
   "source": [
    "## 🔗 Registering Logic Apps and Creating Email Function\n",
    "\n",
    "In this step, we configure our Logic App integration by:\n",
    "\n",
    "1. **Registering the Logic App** - Connecting to the specific Logic App workflow\n",
    "2. **Retrieving Callback URLs** - Getting the HTTP trigger endpoint\n",
    "3. **Creating Email Function** - Building a specialized function for the agent to use\n",
    "\n",
    "The Logic App should have an HTTP trigger named \"When_a_HTTP_request_is_received\" that can accept email parameters (to, subject, body)."
   ]
  },
  {
   "cell_type": "code",
   "execution_count": 13,
   "id": "ae232a42",
   "metadata": {},
   "outputs": [
    {
     "name": "stdout",
     "output_type": "stream",
     "text": [
      "⚠️ Warning: Could not register Logic App 'agent-logic-apps': (ResourceNotFound) The Resource 'Microsoft.Logic/workflows/agent-logic-apps' under resource group 'azure-ai-agents-playbook' was not found. For more details please go to https://aka.ms/ARMResourceNotFoundFix\n",
      "Code: ResourceNotFound\n",
      "Message: The Resource 'Microsoft.Logic/workflows/agent-logic-apps' under resource group 'azure-ai-agents-playbook' was not found. For more details please go to https://aka.ms/ARMResourceNotFoundFix\n",
      "💡 This is expected if the Logic App doesn't exist - emails will be simulated\n",
      "Registered logic app 'agent-logic-apps' with trigger 'When_a_HTTP_request_is_received'.\n",
      "✅ Logic App tool configured for: agent-logic-apps\n",
      "🔧 Trigger: When_a_HTTP_request_is_received\n",
      "📧 Email function created for workflow integration\n"
     ]
    }
   ],
   "source": [
    "# Logic App details\n",
    "logic_app_name = \"agent-logic-apps\"\n",
    "trigger_name = \"When_a_HTTP_request_is_received\"\n",
    "\n",
    "# Create and initialize AzureLogicAppTool utility\n",
    "logic_app_tool = AzureLogicAppTool(subscription_id, resource_group)\n",
    "logic_app_tool.register_logic_app(logic_app_name, trigger_name)\n",
    "print(f\"Registered logic app '{logic_app_name}' with trigger '{trigger_name}'.\")\n",
    "\n",
    "# Create the specialized \"send_email_via_logic_app\" function for your agent tools\n",
    "send_email_func = create_send_email_function(logic_app_tool, logic_app_name)\n",
    "\n",
    "print(f\"✅ Logic App tool configured for: {logic_app_name}\")\n",
    "print(f\"🔧 Trigger: {trigger_name}\")\n",
    "print(f\"📧 Email function created for workflow integration\")"
   ]
  },
  {
   "cell_type": "code",
   "execution_count": 16,
   "id": "5b764864",
   "metadata": {},
   "outputs": [
    {
     "data": {
      "text/plain": [
       "'agent-logic-apps'"
      ]
     },
     "execution_count": 16,
     "metadata": {},
     "output_type": "execute_result"
    }
   ],
   "source": [
    "logic_app_name"
   ]
  },
  {
   "cell_type": "markdown",
   "id": "afb77400",
   "metadata": {},
   "source": [
    "## 🤖 Creating the Hybrid Business Agent\n",
    "\n",
    "Now we'll create our intelligent business agent with Logic Apps integration. This process involves:\n",
    "\n",
    "1. **Function Registration** - Adding our email function to the agent's toolset\n",
    "2. **Tool Configuration** - Enabling auto function calls for seamless execution\n",
    "3. **Agent Instructions** - Defining the agent's role and capabilities\n",
    "4. **Workflow Integration** - Connecting AI intelligence with automated processes\n",
    "\n",
    "The agent will be able to understand business requests and automatically trigger appropriate Logic App workflows."
   ]
  },
  {
   "cell_type": "code",
   "execution_count": null,
   "id": "4a9a0744",
   "metadata": {},
   "outputs": [],
   "source": [
    "# Prepare the function tools for the agent\n",
    "functions_to_use: Set = {\n",
    "    send_email_func,  # This references the AzureLogicAppTool instance via closure\n",
    "}\n",
    "\n",
    "# Create the Logic Apps agent with proper toolset\n",
    "# Create function tool and toolset\n",
    "functions = FunctionTool(functions=functions_to_use)\n",
    "toolset = ToolSet()\n",
    "toolset.add(functions)\n",
    "\n",
    "# Enable auto function calls - this is key for actual execution\n",
    "agents_client.enable_auto_function_calls(toolset)\n",
    "\n",
    "logic_apps_agent = agents_client.create_agent(\n",
    "    model=model_deployment,\n",
    "    name=\"LogicAppsBusinessAgent\",\n",
    "    instructions=\"\"\"\n",
    "    You are a business automation assistant that can trigger workflow processes.\n",
    "    \n",
    "    Your capabilities:\n",
    "    - Send email notifications via Logic Apps using send_email_via_logic_app function\n",
    "    - Trigger alerts for business events\n",
    "    - Coordinate automated workflows\n",
    "    \n",
    "    When sending emails, use the send_email_via_logic_app function with:\n",
    "    - to: email address\n",
    "    - subject: email subject line\n",
    "    - body: email content\n",
    "    \n",
    "    Always explain what workflow you're triggering and why.\n",
    "    \"\"\",\n",
    "    toolset=toolset\n",
    ")\n",
    "\n",
    "print(f\"🤖 Logic Apps Agent created: {logic_apps_agent.id}\")\n",
    "print(f\"🔧 Agent configured with email workflow capabilities\")"
   ]
  },
  {
   "cell_type": "markdown",
   "id": "3413185f",
   "metadata": {},
   "source": [
    "## 🧪 Testing the Logic Apps Integration\n",
    "\n",
    "Time to test our hybrid agent! In this section we will:\n",
    "\n",
    "1. **Configure Email Address** - Set your email for testing notifications\n",
    "2. **Create Thread** - Start a conversation with the agent\n",
    "3. **Send Test Message** - Request a business workflow trigger\n",
    "4. **Monitor Execution** - Watch as the agent processes and executes the Logic App\n",
    "\n",
    "The agent should intelligently understand the request and automatically trigger the appropriate email workflow."
   ]
  },
  {
   "cell_type": "markdown",
   "id": "f531729d",
   "metadata": {},
   "source": [
    "#### Input Your Email Address\n",
    "\n"
   ]
  },
  {
   "cell_type": "code",
   "execution_count": null,
   "id": "0c89b8d4",
   "metadata": {},
   "outputs": [],
   "source": [
    "# please replace with your email address\n",
    "my_email = \"test@test.com\""
   ]
  },
  {
   "cell_type": "markdown",
   "id": "9a4a2030",
   "metadata": {},
   "source": [
    "## 🎬 Executing the Business Workflow\n",
    "\n",
    "Watch the magic happen! This cell demonstrates the complete flow:\n",
    "\n",
    "```mermaid\n",
    "graph TD\n",
    "    A[User Request] --> B[AI Agent Processing]\n",
    "    B --> C{Logic Apps Available?}\n",
    "    C -->|Yes| D[Trigger Logic App]\n",
    "    C -->|No| E[Simulate Email]\n",
    "    D --> F[Send Real Email]\n",
    "    E --> G[Display Simulated Email]\n",
    "    F --> H[Return Success]\n",
    "    G --> H\n",
    "```\n",
    "\n",
    "The agent will:\n",
    "- Parse the business request\n",
    "- Identify the need for email notification\n",
    "- Execute the `send_email_via_logic_app` function\n",
    "- Trigger the Logic App workflow (or simulate if unavailable)"
   ]
  },
  {
   "cell_type": "code",
   "execution_count": null,
   "id": "07b9af32",
   "metadata": {},
   "outputs": [],
   "source": [
    "# Test the Logic Apps agent\n",
    "thread = agents_client.threads.create()\n",
    "\n",
    "# Send a test message\n",
    "message = agents_client.messages.create(\n",
    "    thread_id=thread.id,\n",
    "    role=\"user\",\n",
    "    content=f\"Send a notification email about high sales performance this quarter to this email address {my_email}.\",\n",
    ")\n",
    "\n",
    "# Create and process an agent run in the thread\n",
    "run = agents_client.runs.create_and_process(thread_id=thread.id, agent_id=logic_apps_agent.id)\n",
    "print(f\"Run finished with status: {run.status}\")\n",
    "\n",
    "if run.status == \"failed\":\n",
    "    print(f\"Run failed: {run.last_error}\")\n",
    "\n",
    "# Get the response\n",
    "print(\"📧 Logic Apps Agent Response:\")\n",
    "messages = agents_client.messages.list(thread_id=thread.id)\n",
    "for msg in messages:\n",
    "    if msg.text_messages:\n",
    "        print(f\"\\n🗨️ {msg.role.upper()}: {msg.text_messages[-1].text.value}\")\n",
    "        print(\"-\" * 80)\n",
    "\n",
    "\n"
   ]
  },
  {
   "cell_type": "markdown",
   "id": "e33c2a1f",
   "metadata": {},
   "source": [
    "## 🎉 Conclusion\n",
    "\n",
    "**You've successfully created a hybrid Azure AI Agent that combines:**\n",
    "\n",
    "### 🔄 Azure Logic Apps Integration\n",
    "- Used `AzureLogicAppTool` for workflow automation\n",
    "- Registered Logic Apps with `register_logic_app()` method\n",
    "- Triggered email notifications and business processes\n",
    "\n",
    "### 🔌 Semantic Kernel Plugins\n",
    "- Created local data processing capabilities\n",
    "- Built custom business intelligence functions\n",
    "- Processed sales data and generated reports\n",
    "\n",
    "### 🎯 Hybrid Orchestration\n",
    "- Combined cloud automation with local AI processing\n",
    "- Coordinated between multiple tools and workflows\n",
    "- Created intelligent business automation\n",
    "\n",
    "**Next Steps:**\n",
    "- Expand SK plugins for more business logic\n",
    "- Add more Logic Apps for different workflows\n",
    "- Implement error handling and monitoring\n",
    "- Scale to enterprise-level scenarios\n",
    "\n",
    "---\n",
    "*Happy automating! 🚀*"
   ]
  }
 ],
 "metadata": {
  "kernelspec": {
   "display_name": "az-ai-agents-playbook",
   "language": "python",
   "name": "python3"
  },
  "language_info": {
   "codemirror_mode": {
    "name": "ipython",
    "version": 3
   },
   "file_extension": ".py",
   "mimetype": "text/x-python",
   "name": "python",
   "nbconvert_exporter": "python",
   "pygments_lexer": "ipython3",
   "version": "3.12.11"
  }
 },
 "nbformat": 4,
 "nbformat_minor": 5
}
